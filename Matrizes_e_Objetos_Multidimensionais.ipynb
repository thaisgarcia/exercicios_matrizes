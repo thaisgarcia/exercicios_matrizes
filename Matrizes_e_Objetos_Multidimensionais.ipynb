{
  "nbformat": 4,
  "nbformat_minor": 0,
  "metadata": {
    "colab": {
      "provenance": []
    },
    "kernelspec": {
      "name": "python3",
      "display_name": "Python 3"
    },
    "language_info": {
      "name": "python"
    }
  },
  "cells": [
    {
      "cell_type": "markdown",
      "source": [
        "1. Escreva uma função que leia e retorne uma matriz de inteiros fornecida pelo usuário. Sua matriz deve ler os números linha a linha. Os números devem estar separados por espaços em branco. Sua função deve interromper a leitura ao receber uma linha em branco."
      ],
      "metadata": {
        "id": "oe5wBbxk3oZw"
      }
    },
    {
      "cell_type": "code",
      "execution_count": 1,
      "metadata": {
        "colab": {
          "base_uri": "https://localhost:8080/"
        },
        "id": "1Ac4qY473gh3",
        "outputId": "368b593b-6f4c-4bcf-d38d-6f6152742199"
      },
      "outputs": [
        {
          "output_type": "stream",
          "name": "stdout",
          "text": [
            "Digite os elementos da matriz linha por linha. Digite uma linha em branco para parar.\n",
            "Digite os elementos da linha separados por espaços (ou deixe em branco para parar): 7 8 6\n",
            "Digite os elementos da linha separados por espaços (ou deixe em branco para parar): 4 5 6\n",
            "Digite os elementos da linha separados por espaços (ou deixe em branco para parar): \n",
            "Matriz lida:\n",
            "[7, 8, 6]\n",
            "[4, 5, 6]\n"
          ]
        }
      ],
      "source": [
        "def ler_matriz():\n",
        "    matriz = []\n",
        "    while True:\n",
        "        linha = input(\"Digite os elementos da linha separados por espaços (ou deixe em branco para parar): \")\n",
        "        if not linha:  # Se a linha estiver em branco, pare a leitura\n",
        "            break\n",
        "        numeros = [int(num) for num in linha.split()]\n",
        "        matriz.append(numeros)\n",
        "    return matriz\n",
        "\n",
        "print(\"Digite os elementos da matriz linha por linha. Digite uma linha em branco para parar.\")\n",
        "matriz = ler_matriz()\n",
        "print(\"Matriz lida:\")\n",
        "for linha in matriz:\n",
        "    print(linha)"
      ]
    },
    {
      "cell_type": "markdown",
      "source": [
        "2. Escreva uma função que, dada uma lista bidimensional (lista de listas), verifique se ela é uma matriz. Em caso positivo, sua função deve retornar uma tupla com o número de linhas e de colunas da matriz. Em caso negativo, deve retornar uma tupla vazia."
      ],
      "metadata": {
        "id": "pnThZgel49b6"
      }
    },
    {
      "cell_type": "code",
      "source": [
        "def ler_matriz():\n",
        "    matriz = []\n",
        "    while True:\n",
        "        linha = input(\"Digite os elementos da linha separados por espaços (ou deixe em branco para parar): \")\n",
        "        if not linha:  # Se a linha estiver em branco, pare a leitura\n",
        "            break\n",
        "        numeros = [int(num) for num in linha.split()]  # Divida a linha nos números e converta-os para inteiros\n",
        "        matriz.append(numeros)  # Adicione a linha à matriz\n",
        "    return matriz\n",
        "\n",
        "def verificar_matriz(matriz):\n",
        "    # Verifique se a matriz não está vazia\n",
        "    if not matriz:\n",
        "        return ()\n",
        "\n",
        "    # Verifique o comprimento da primeira linha\n",
        "    num_colunas = len(matriz[0])\n",
        "\n",
        "    # Verifique se todas as linhas têm o mesmo comprimento\n",
        "    for linha in matriz:\n",
        "        if len(linha) != num_colunas:\n",
        "            return ()\n",
        "\n",
        "    num_linhas = len(matriz)\n",
        "    return (num_linhas, num_colunas)\n",
        "\n",
        "print(\"Digite os elementos da matriz linha por linha. Digite uma linha em branco para parar.\")\n",
        "matriz = ler_matriz()\n",
        "resultado = verificar_matriz(matriz)\n",
        "\n",
        "if resultado:\n",
        "    print(\"A matriz tem\", resultado[0], \"linhas e\", resultado[1], \"colunas.\")\n",
        "else:\n",
        "    print(\"A entrada não corresponde a uma matriz.\")\n"
      ],
      "metadata": {
        "colab": {
          "base_uri": "https://localhost:8080/"
        },
        "id": "6VKHuSMJ5Lt6",
        "outputId": "5d1947ad-dbf0-4316-c88c-bb833885df3d"
      },
      "execution_count": 2,
      "outputs": [
        {
          "output_type": "stream",
          "name": "stdout",
          "text": [
            "Digite os elementos da matriz linha por linha. Digite uma linha em branco para parar.\n",
            "Digite os elementos da linha separados por espaços (ou deixe em branco para parar): 7 6 6\n",
            "Digite os elementos da linha separados por espaços (ou deixe em branco para parar): 1 2 9\n",
            "Digite os elementos da linha separados por espaços (ou deixe em branco para parar): \n",
            "A matriz tem 2 linhas e 3 colunas.\n"
          ]
        }
      ]
    },
    {
      "cell_type": "markdown",
      "source": [
        "3. Escreva uma função que imprime, linha a linha, os valores de uma matriz bidimensional dada como argumento."
      ],
      "metadata": {
        "id": "5z5RDXj67pBc"
      }
    },
    {
      "cell_type": "code",
      "source": [
        "def ler_matriz():\n",
        "    matriz = []\n",
        "    while True:\n",
        "        linha = input(\"Digite os elementos da linha separados por espaços (ou deixe em branco para parar): \")\n",
        "        if not linha:  # Se a linha estiver em branco, pare a leitura\n",
        "            break\n",
        "        numeros = [int(num) for num in linha.split()]  # Divida a linha nos números e converta-os para inteiros\n",
        "        matriz.append(numeros)  # Adicione a linha à matriz\n",
        "    return matriz\n",
        "\n",
        "def imprimir_matriz(matriz):\n",
        "    for linha in matriz:\n",
        "        print(\" \".join(map(str, linha)))\n",
        "\n",
        "print(\"Digite os elementos da matriz linha por linha. Digite uma linha em branco para parar.\")\n",
        "matriz = ler_matriz()\n",
        "print(\"Matriz inserida:\")\n",
        "imprimir_matriz(matriz)\n"
      ],
      "metadata": {
        "colab": {
          "base_uri": "https://localhost:8080/"
        },
        "id": "DyhiPm698cLQ",
        "outputId": "927818fb-230d-4320-9db0-bf1964b2b209"
      },
      "execution_count": 3,
      "outputs": [
        {
          "output_type": "stream",
          "name": "stdout",
          "text": [
            "Digite os elementos da matriz linha por linha. Digite uma linha em branco para parar.\n",
            "Digite os elementos da linha separados por espaços (ou deixe em branco para parar): 7 8 9\n",
            "Digite os elementos da linha separados por espaços (ou deixe em branco para parar): 4 5 6\n",
            "Digite os elementos da linha separados por espaços (ou deixe em branco para parar): 1 2 3\n",
            "Digite os elementos da linha separados por espaços (ou deixe em branco para parar): \n",
            "Matriz inserida:\n",
            "7 8 9\n",
            "4 5 6\n",
            "1 2 3\n"
          ]
        }
      ]
    },
    {
      "cell_type": "markdown",
      "source": [
        "4. Escreva uma função que dada uma matriz (M), calcule a sua transposta (Mt). Exemplo:\n",
        "\n",
        "  ![image.png](data:image/png;base64,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)"
      ],
      "metadata": {
        "id": "eFWKuCWd9ccW"
      }
    },
    {
      "cell_type": "code",
      "source": [
        "def ler_matriz():\n",
        "    matriz = []\n",
        "    while True:\n",
        "        linha = input(\"Digite os elementos da linha separados por espaços (ou deixe em branco para parar): \")\n",
        "        if not linha:  # Se a linha estiver em branco, pare a leitura\n",
        "            break\n",
        "        numeros = [int(num) for num in linha.split()]  # Divida a linha nos números e converta-os para inteiros\n",
        "        matriz.append(numeros)  # Adicione a linha à matriz\n",
        "    return matriz\n",
        "\n",
        "def imprimir_matriz(matriz):\n",
        "    for linha in matriz:\n",
        "        print(\" \".join(map(str, linha)))\n",
        "\n",
        "def calcular_transposta(matriz):\n",
        "    return [[matriz[j][i] for j in range(len(matriz))] for i in range(len(matriz[0]))]\n",
        "\n",
        "print(\"Digite os elementos da matriz linha por linha. Digite uma linha em branco para parar.\")\n",
        "matriz = ler_matriz()\n",
        "print(\"Matriz original:\")\n",
        "imprimir_matriz(matriz)\n",
        "\n",
        "transposta = calcular_transposta(matriz)\n",
        "print(\"Matriz transposta:\")\n",
        "imprimir_matriz(transposta)"
      ],
      "metadata": {
        "colab": {
          "base_uri": "https://localhost:8080/"
        },
        "id": "ODlaElOq-BKM",
        "outputId": "3d32f92f-d680-481d-c8a4-04cc632b8c01"
      },
      "execution_count": 4,
      "outputs": [
        {
          "output_type": "stream",
          "name": "stdout",
          "text": [
            "Digite os elementos da matriz linha por linha. Digite uma linha em branco para parar.\n",
            "Digite os elementos da linha separados por espaços (ou deixe em branco para parar): 1 2 3\n",
            "Digite os elementos da linha separados por espaços (ou deixe em branco para parar): 4 5 6\n",
            "Digite os elementos da linha separados por espaços (ou deixe em branco para parar): 7 8 9\n",
            "Digite os elementos da linha separados por espaços (ou deixe em branco para parar): \n",
            "Matriz original:\n",
            "1 2 3\n",
            "4 5 6\n",
            "7 8 9\n",
            "Matriz transposta:\n",
            "1 4 7\n",
            "2 5 8\n",
            "3 6 9\n"
          ]
        }
      ]
    },
    {
      "cell_type": "markdown",
      "source": [
        "5. Escreva uma função que recebe duas matrizes (A e B). Se as duas matrizes tiverem dimensões compatíveis, sua função deve retornar a soma das duas (C=A+B). Caso contrário, sua função deve retornar uma lista vazia. Exemplo:\n",
        "![image.png](data:image/png;base64,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)"
      ],
      "metadata": {
        "id": "uLFsVVwcAKw-"
      }
    },
    {
      "cell_type": "code",
      "source": [
        "def soma_matrices(A, B):\n",
        "    # Verifica se as dimensões das matrizes são compatíveis\n",
        "    if len(A) == len(B) and len(A[0]) == len(B[0]):\n",
        "        C = []\n",
        "        for i in range(len(A)):\n",
        "            linha = []\n",
        "            for j in range(len(A[0])):\n",
        "                # Soma os elementos correspondentes das duas matrizes\n",
        "                linha.append(A[i][j] + B[i][j])\n",
        "            C.append(linha)\n",
        "        return C\n",
        "    else:\n",
        "        # Se as dimensões não forem compatíveis, retorna uma lista vazia\n",
        "        return []\n",
        "\n",
        "def ler_matriz():\n",
        "    linhas = int(input(\"Digite o número de linhas da matriz: \"))\n",
        "    colunas = int(input(\"Digite o número de colunas da matriz: \"))\n",
        "    matriz = []\n",
        "    for i in range(linhas):\n",
        "        linha = []\n",
        "        for j in range(colunas):\n",
        "            elemento = int(input(f\"Digite o elemento da posição ({i+1},{j+1}): \"))\n",
        "            linha.append(elemento)\n",
        "        matriz.append(linha)\n",
        "    return matriz\n",
        "\n",
        "# Solicita ao usuário que insira as linhas das duas matrizes\n",
        "print(\"Digite os elementos da matriz A:\")\n",
        "A = ler_matriz()\n",
        "\n",
        "print(\"\\nDigite os elementos da matriz B:\")\n",
        "B = ler_matriz()\n",
        "\n",
        "# Realiza a soma das matrizes e exibe o resultado\n",
        "resultado = soma_matrices(A, B)\n",
        "if resultado:\n",
        "    print(\"\\nA soma das matrizes A e B é:\")\n",
        "    for linha in resultado:\n",
        "        print(linha)\n",
        "else:\n",
        "    print(\"\\nAs matrizes A e B têm dimensões incompatíveis.\")\n"
      ],
      "metadata": {
        "colab": {
          "base_uri": "https://localhost:8080/"
        },
        "id": "9e2RwqQYAW5c",
        "outputId": "47f08ea9-3ddd-425d-a068-ae6c5627613c"
      },
      "execution_count": 6,
      "outputs": [
        {
          "output_type": "stream",
          "name": "stdout",
          "text": [
            "Digite os elementos da matriz A:\n",
            "Digite o número de linhas da matriz: 2\n",
            "Digite o número de colunas da matriz: 2\n",
            "Digite o elemento da posição (1,1): 6\n",
            "Digite o elemento da posição (1,2): 9\n",
            "Digite o elemento da posição (2,1): 4\n",
            "Digite o elemento da posição (2,2): 5\n",
            "\n",
            "Digite os elementos da matriz B:\n",
            "Digite o número de linhas da matriz: 2\n",
            "Digite o número de colunas da matriz: 2\n",
            "Digite o elemento da posição (1,1): 3\n",
            "Digite o elemento da posição (1,2): 1\n",
            "Digite o elemento da posição (2,1): 2\n",
            "Digite o elemento da posição (2,2): 4\n",
            "\n",
            "A soma das matrizes A e B é:\n",
            "[9, 10]\n",
            "[6, 9]\n"
          ]
        }
      ]
    },
    {
      "cell_type": "markdown",
      "source": [
        "6. Escreva uma função que recebe duas matrizes (A e B). Se as duas matrizes tiverem dimensões compatíveis, sua função deve retornar o produto das duas (C = A x B). Caso contrário, sua função deve retornar uma lista vazia. Exemplo:\n",
        "\n",
        "  ![image.png](data:image/png;base64,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)"
      ],
      "metadata": {
        "id": "3sdZaFFICiuu"
      }
    },
    {
      "cell_type": "code",
      "source": [
        "import numpy as np\n",
        "\n",
        "def ler_matriz():\n",
        "    linhas = int(input(\"Digite o número de linhas da matriz: \"))\n",
        "    colunas = int(input(\"Digite o número de colunas da matriz: \"))\n",
        "    matriz = []\n",
        "    for i in range(linhas):\n",
        "        linha = []\n",
        "        for j in range(colunas):\n",
        "            elemento = int(input(f\"Digite o elemento da posição ({i+1},{j+1}): \"))\n",
        "            linha.append(elemento)\n",
        "        matriz.append(linha)\n",
        "    return matriz\n",
        "\n",
        "# Solicita ao usuário que insira as linhas das duas matrizes\n",
        "print(\"Digite os elementos da matriz A:\")\n",
        "A = np.array(ler_matriz())\n",
        "\n",
        "print(\"\\nDigite os elementos da matriz B:\")\n",
        "B = np.array(ler_matriz())\n",
        "\n",
        "# Realiza o produto das matrizes e exibe o resultado\n",
        "resultado = np.dot(A, B)\n",
        "print(\"\\nO produto das matrizes A e B é:\")\n",
        "print(resultado)"
      ],
      "metadata": {
        "colab": {
          "base_uri": "https://localhost:8080/"
        },
        "id": "czpPfvCIKBW_",
        "outputId": "2722fd1d-1d7f-4b69-e329-a62f0d627d36"
      },
      "execution_count": 12,
      "outputs": [
        {
          "output_type": "stream",
          "name": "stdout",
          "text": [
            "Digite os elementos da matriz A:\n",
            "Digite o número de linhas da matriz: 2\n",
            "Digite o número de colunas da matriz: 2\n",
            "Digite o elemento da posição (1,1): 1\n",
            "Digite o elemento da posição (1,2): 2\n",
            "Digite o elemento da posição (2,1): 3\n",
            "Digite o elemento da posição (2,2): 4\n",
            "\n",
            "Digite os elementos da matriz B:\n",
            "Digite o número de linhas da matriz: 2\n",
            "Digite o número de colunas da matriz: 1\n",
            "Digite o elemento da posição (1,1): 5\n",
            "Digite o elemento da posição (2,1): 6\n",
            "\n",
            "O produto das matrizes A e B é:\n",
            "[[17]\n",
            " [39]]\n"
          ]
        }
      ]
    },
    {
      "cell_type": "markdown",
      "source": [
        "7. Escreva uma função que dada uma matriz quadrada, verifique se ela é uma matriz diagonal. Exemplo:\n",
        "\n",
        "   ![image.png](data:image/png;base64,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)"
      ],
      "metadata": {
        "id": "_tmNpYyRLvqB"
      }
    },
    {
      "cell_type": "code",
      "source": [
        "def ler_matriz_quadrada():\n",
        "    tamanho = int(input(\"Digite o tamanho da matriz quadrada: \"))\n",
        "    matriz = []\n",
        "    for i in range(tamanho):\n",
        "        linha = []\n",
        "        for j in range(tamanho):\n",
        "            elemento = float(input(f\"Digite o elemento da posição ({i+1},{j+1}): \"))\n",
        "            linha.append(elemento)\n",
        "        matriz.append(linha)\n",
        "    return matriz\n",
        "\n",
        "def eh_matriz_diagonal(matriz):\n",
        "    # Verifica se a matriz é quadrada\n",
        "    if len(matriz) != len(matriz[0]):\n",
        "        return False\n",
        "\n",
        "    # Verifica se todos os elementos fora da diagonal principal são zero\n",
        "    for i in range(len(matriz)):\n",
        "        for j in range(len(matriz[0])):\n",
        "            if i != j and matriz[i][j] != 0:\n",
        "                return False\n",
        "    return True\n",
        "\n",
        "# Solicita ao usuário que insira as linhas da matriz quadrada\n",
        "print(\"Digite os elementos da matriz quadrada:\")\n",
        "matriz_quadrada = ler_matriz_quadrada()\n",
        "\n",
        "# Verifica se a matriz é diagonal e exibe o resultado\n",
        "if eh_matriz_diagonal(matriz_quadrada):\n",
        "    print(\"A matriz é diagonal.\")\n",
        "else:\n",
        "    print(\"A matriz não é diagonal.\")"
      ],
      "metadata": {
        "colab": {
          "base_uri": "https://localhost:8080/"
        },
        "id": "OSx-8NhNMZbo",
        "outputId": "aadefd4f-033c-4148-895e-c086723bf9e8"
      },
      "execution_count": 16,
      "outputs": [
        {
          "output_type": "stream",
          "name": "stdout",
          "text": [
            "Digite os elementos da matriz quadrada:\n",
            "Digite o tamanho da matriz quadrada: 5\n",
            "Digite o elemento da posição (1,1): 1\n",
            "Digite o elemento da posição (1,2): 0\n",
            "Digite o elemento da posição (1,3): 0\n",
            "Digite o elemento da posição (1,4): 0\n",
            "Digite o elemento da posição (1,5): 0\n",
            "Digite o elemento da posição (2,1): 0\n",
            "Digite o elemento da posição (2,2): 5\n",
            "Digite o elemento da posição (2,3): 0\n",
            "Digite o elemento da posição (2,4): 0\n",
            "Digite o elemento da posição (2,5): 0\n",
            "Digite o elemento da posição (3,1): 0\n",
            "Digite o elemento da posição (3,2): 0\n",
            "Digite o elemento da posição (3,3): 4\n",
            "Digite o elemento da posição (3,4): 0\n",
            "Digite o elemento da posição (3,5): 0\n",
            "Digite o elemento da posição (4,1): 0\n",
            "Digite o elemento da posição (4,2): 0\n",
            "Digite o elemento da posição (4,3): 0\n",
            "Digite o elemento da posição (4,4): 0\n",
            "Digite o elemento da posição (4,5): 0\n",
            "Digite o elemento da posição (5,1): 0\n",
            "Digite o elemento da posição (5,2): 0\n",
            "Digite o elemento da posição (5,3): 0\n",
            "Digite o elemento da posição (5,4): 0\n",
            "Digite o elemento da posição (5,5): 3\n",
            "A matriz é diagonal.\n"
          ]
        }
      ]
    },
    {
      "cell_type": "markdown",
      "source": [
        "8. Escreva uma função que dada uma matriz quadrada, verifique se ela é uma matriz triangular inferior. Exemplo:\n",
        "\n",
        "   ![image.png](data:image/png;base64,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)"
      ],
      "metadata": {
        "id": "ZrNozs6FP2tm"
      }
    },
    {
      "cell_type": "code",
      "source": [
        "def ler_matriz_quadrada():\n",
        "    tamanho = int(input(\"Digite o tamanho da matriz quadrada: \"))\n",
        "    matriz = []\n",
        "    for i in range(tamanho):\n",
        "        linha = []\n",
        "        for j in range(tamanho):\n",
        "            elemento = float(input(f\"Digite o elemento da posição ({i+1},{j+1}): \"))\n",
        "            linha.append(elemento)\n",
        "        matriz.append(linha)\n",
        "    return matriz\n",
        "\n",
        "def eh_matriz_triangular_inferior(matriz):\n",
        "    # Verifica se a matriz é quadrada\n",
        "    if len(matriz) != len(matriz[0]):\n",
        "        return False\n",
        "\n",
        "    # Verifica se todos os elementos acima da diagonal principal são zero\n",
        "    for i in range(len(matriz)):\n",
        "        for j in range(i + 1, len(matriz[0])):\n",
        "            if matriz[i][j] != 0:\n",
        "                return False\n",
        "    return True\n",
        "\n",
        "# Solicita ao usuário que insira as linhas da matriz quadrada\n",
        "print(\"Digite os elementos da matriz quadrada:\")\n",
        "matriz_quadrada = ler_matriz_quadrada()\n",
        "\n",
        "# Verifica se a matriz é triangular inferior e exibe o resultado\n",
        "if eh_matriz_triangular_inferior(matriz_quadrada):\n",
        "    print(\"A matriz é triangular inferior.\")\n",
        "else:\n",
        "    print(\"A matriz não é triangular inferior.\")"
      ],
      "metadata": {
        "colab": {
          "base_uri": "https://localhost:8080/"
        },
        "id": "xhUd4fG3Rgd5",
        "outputId": "19518ad9-04a2-4608-e6af-312f9507ca97"
      },
      "execution_count": 17,
      "outputs": [
        {
          "output_type": "stream",
          "name": "stdout",
          "text": [
            "Digite os elementos da matriz quadrada:\n",
            "Digite o tamanho da matriz quadrada: 5\n",
            "Digite o elemento da posição (1,1): 1\n",
            "Digite o elemento da posição (1,2): 0\n",
            "Digite o elemento da posição (1,3): 0\n",
            "Digite o elemento da posição (1,4): 0\n",
            "Digite o elemento da posição (1,5): 0\n",
            "Digite o elemento da posição (2,1): 0\n",
            "Digite o elemento da posição (2,2): 5\n",
            "Digite o elemento da posição (2,3): 0\n",
            "Digite o elemento da posição (2,4): 0\n",
            "Digite o elemento da posição (2,5): 0\n",
            "Digite o elemento da posição (3,1): 0\n",
            "Digite o elemento da posição (3,2): 4\n",
            "Digite o elemento da posição (3,3): 4\n",
            "Digite o elemento da posição (3,4): 0\n",
            "Digite o elemento da posição (3,5): 0\n",
            "Digite o elemento da posição (4,1): 0\n",
            "Digite o elemento da posição (4,2): 1\n",
            "Digite o elemento da posição (4,3): 0\n",
            "Digite o elemento da posição (4,4): 0\n",
            "Digite o elemento da posição (4,5): 0\n",
            "Digite o elemento da posição (5,1): 0\n",
            "Digite o elemento da posição (5,2): 9\n",
            "Digite o elemento da posição (5,3): 0\n",
            "Digite o elemento da posição (5,4): 2\n",
            "Digite o elemento da posição (5,5): 3\n",
            "A matriz é triangular inferior.\n"
          ]
        }
      ]
    },
    {
      "cell_type": "markdown",
      "source": [
        "9. Escreva uma função que dada uma matriz quadrada, verifique se ela é uma matriz triangular superior. Exemplo:\n",
        "\n",
        "   ![image.png](data:image/png;base64,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)"
      ],
      "metadata": {
        "id": "nNjAiUWQTVPr"
      }
    },
    {
      "cell_type": "code",
      "source": [
        "def ler_matriz_quadrada():\n",
        "    tamanho = int(input(\"Digite o tamanho da matriz quadrada: \"))\n",
        "    matriz = []\n",
        "    for i in range(tamanho):\n",
        "        linha = []\n",
        "        for j in range(tamanho):\n",
        "            elemento = float(input(f\"Digite o elemento da posição ({i+1},{j+1}): \"))\n",
        "            linha.append(elemento)\n",
        "        matriz.append(linha)\n",
        "    return matriz\n",
        "\n",
        "def eh_matriz_triangular_superior(matriz):\n",
        "    # Verifica se a matriz é quadrada\n",
        "    if len(matriz) != len(matriz[0]):\n",
        "        return False\n",
        "\n",
        "    # Verifica se todos os elementos abaixo da diagonal principal são zero\n",
        "    for i in range(len(matriz)):\n",
        "        for j in range(i):\n",
        "            if matriz[i][j] != 0:\n",
        "                return False\n",
        "    return True\n",
        "\n",
        "# Solicita ao usuário que insira as linhas da matriz quadrada\n",
        "print(\"Digite os elementos da matriz quadrada:\")\n",
        "matriz_quadrada = ler_matriz_quadrada()\n",
        "\n",
        "# Verifica se a matriz é triangular superior e exibe o resultado\n",
        "if eh_matriz_triangular_superior(matriz_quadrada):\n",
        "    print(\"A matriz é triangular superior.\")\n",
        "else:\n",
        "    print(\"A matriz não é triangular superior.\")"
      ],
      "metadata": {
        "colab": {
          "base_uri": "https://localhost:8080/"
        },
        "id": "U2fmZIlfTh2r",
        "outputId": "6ccdfc32-5ae4-44af-946e-ff2d3c9a354b"
      },
      "execution_count": 18,
      "outputs": [
        {
          "output_type": "stream",
          "name": "stdout",
          "text": [
            "Digite os elementos da matriz quadrada:\n",
            "Digite o tamanho da matriz quadrada: 5\n",
            "Digite o elemento da posição (1,1): 1\n",
            "Digite o elemento da posição (1,2): 0\n",
            "Digite o elemento da posição (1,3): 8\n",
            "Digite o elemento da posição (1,4): 9\n",
            "Digite o elemento da posição (1,5): 8\n",
            "Digite o elemento da posição (2,1): 0\n",
            "Digite o elemento da posição (2,2): 5\n",
            "Digite o elemento da posição (2,3): 0\n",
            "Digite o elemento da posição (2,4): 0\n",
            "Digite o elemento da posição (2,5): 0\n",
            "Digite o elemento da posição (3,1): 0\n",
            "Digite o elemento da posição (3,2): 0\n",
            "Digite o elemento da posição (3,3): 4\n",
            "Digite o elemento da posição (3,4): 0\n",
            "Digite o elemento da posição (3,5): 7\n",
            "Digite o elemento da posição (4,1): 0\n",
            "Digite o elemento da posição (4,2): 0\n",
            "Digite o elemento da posição (4,3): 0\n",
            "Digite o elemento da posição (4,4): 0\n",
            "Digite o elemento da posição (4,5): 0\n",
            "Digite o elemento da posição (5,1): 0\n",
            "Digite o elemento da posição (5,2): 0\n",
            "Digite o elemento da posição (5,3): 0\n",
            "Digite o elemento da posição (5,4): 0\n",
            "Digite o elemento da posição (5,5): 3\n",
            "A matriz é triangular superior.\n"
          ]
        }
      ]
    },
    {
      "cell_type": "markdown",
      "source": [
        "10. Uma matriz quadrada de números inteiros é um quadrado mágico se o valor da soma dos elementos de cada linha, de cada coluna e da diagonal principal e da diagonal secundária é o mesmo. Além disso, a matriz deve conter todos os números inteiros do intervalo [1..n x n]. Exemplo:\n",
        "\n",
        "   ![image.png](data:image/png;base64,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)\n",
        "\n",
        "   A matriz acima é um quadrado mágico, cujas somas valem 65. Escreva um programa que, dada uma matriz quadrada, verifique se ela é um quadrado mágico."
      ],
      "metadata": {
        "id": "NkHTCzTIV3DE"
      }
    },
    {
      "cell_type": "code",
      "source": [
        "def ler_matriz_quadrada():\n",
        "    tamanho = int(input(\"Digite o tamanho da matriz quadrada: \"))\n",
        "    matriz = []\n",
        "    for i in range(tamanho):\n",
        "        linha = []\n",
        "        for j in range(tamanho):\n",
        "            elemento = int(input(f\"Digite o elemento da posição ({i+1},{j+1}): \"))\n",
        "            linha.append(elemento)\n",
        "        matriz.append(linha)\n",
        "    return matriz\n",
        "\n",
        "def eh_quadrado_magico(matriz):\n",
        "    tamanho = len(matriz)\n",
        "    n = tamanho * tamanho\n",
        "\n",
        "    # Verifica se a matriz contém todos os números inteiros do intervalo [1..n]\n",
        "    numeros = set(range(1, n + 1))\n",
        "    for linha in matriz:\n",
        "        for elemento in linha:\n",
        "            if elemento not in numeros:\n",
        "                return False\n",
        "            numeros.remove(elemento)\n",
        "\n",
        "    # Calcula a soma esperada de cada linha, coluna e diagonal\n",
        "    soma_esperada = tamanho * (n + 1) / 2\n",
        "\n",
        "    # Verifica a soma das linhas\n",
        "    for linha in matriz:\n",
        "        if sum(linha) != soma_esperada:\n",
        "            return False\n",
        "\n",
        "    # Verifica a soma das colunas\n",
        "    for j in range(tamanho):\n",
        "        soma_coluna = sum(matriz[i][j] for i in range(tamanho))\n",
        "        if soma_coluna != soma_esperada:\n",
        "            return False\n",
        "\n",
        "    # Verifica a soma da diagonal principal\n",
        "    soma_diagonal_principal = sum(matriz[i][i] for i in range(tamanho))\n",
        "    if soma_diagonal_principal != soma_esperada:\n",
        "        return False\n",
        "\n",
        "    # Verifica a soma da diagonal secundária\n",
        "    soma_diagonal_secundaria = sum(matriz[i][tamanho - i - 1] for i in range(tamanho))\n",
        "    if soma_diagonal_secundaria != soma_esperada:\n",
        "        return False\n",
        "\n",
        "    return True\n",
        "\n",
        "# Solicita ao usuário que insira as linhas da matriz quadrada\n",
        "print(\"Digite os elementos da matriz quadrada:\")\n",
        "matriz_quadrada = ler_matriz_quadrada()\n",
        "\n",
        "# Verifica se a matriz é um quadrado mágico e exibe o resultado\n",
        "if eh_quadrado_magico(matriz_quadrada):\n",
        "    print(\"A matriz é um quadrado mágico.\")\n",
        "else:\n",
        "    print(\"A matriz não é um quadrado mágico.\")"
      ],
      "metadata": {
        "colab": {
          "base_uri": "https://localhost:8080/"
        },
        "id": "DN1kRputWKMk",
        "outputId": "5a82b3d2-f1ff-4372-c0d4-6998c7ba7df5"
      },
      "execution_count": 19,
      "outputs": [
        {
          "output_type": "stream",
          "name": "stdout",
          "text": [
            "Digite os elementos da matriz quadrada:\n",
            "Digite o tamanho da matriz quadrada: 5\n",
            "Digite o elemento da posição (1,1): 15\n",
            "Digite o elemento da posição (1,2): 8\n",
            "Digite o elemento da posição (1,3): 1\n",
            "Digite o elemento da posição (1,4): 24\n",
            "Digite o elemento da posição (1,5): 17\n",
            "Digite o elemento da posição (2,1): 16\n",
            "Digite o elemento da posição (2,2): 14\n",
            "Digite o elemento da posição (2,3): 7\n",
            "Digite o elemento da posição (2,4): 5\n",
            "Digite o elemento da posição (2,5): 23\n",
            "Digite o elemento da posição (3,1): 22\n",
            "Digite o elemento da posição (3,2): 20\n",
            "Digite o elemento da posição (3,3): 13\n",
            "Digite o elemento da posição (3,4): 6\n",
            "Digite o elemento da posição (3,5): 4\n",
            "Digite o elemento da posição (4,1): 3\n",
            "Digite o elemento da posição (4,2): 21\n",
            "Digite o elemento da posição (4,3): 19\n",
            "Digite o elemento da posição (4,4): 12\n",
            "Digite o elemento da posição (4,5): 10\n",
            "Digite o elemento da posição (5,1): 9\n",
            "Digite o elemento da posição (5,2): 2\n",
            "Digite o elemento da posição (5,3): 25\n",
            "Digite o elemento da posição (5,4): 18\n",
            "Digite o elemento da posição (5,5): 11\n",
            "A matriz é um quadrado mágico.\n"
          ]
        }
      ]
    },
    {
      "cell_type": "markdown",
      "source": [
        "11. Uma matriz de permutações é uma matriz quadrada cujos elementos são zeros ou uns, tal que em cada linha e em cada coluna exista exatamente um elemento igual a 1. Exemplo:\n",
        "\n",
        "  ![image.png](data:image/png;base64,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)\n",
        "\n",
        "  Escreva um programa que, dada uma matriz quadrada, verifique se ela é uma matriz de permutações."
      ],
      "metadata": {
        "id": "elyORQnwYJZ_"
      }
    },
    {
      "cell_type": "code",
      "source": [
        "def eh_matriz_permutacao(matriz):\n",
        "    # Verifica se a matriz é quadrada\n",
        "    n = len(matriz)\n",
        "    if n != len(matriz[0]):\n",
        "        return False\n",
        "\n",
        "    # Verifica se cada linha e cada coluna contém exatamente um elemento igual a 1\n",
        "    for i in range(n):\n",
        "        linha_contagem = sum(matriz[i][j] for j in range(n))\n",
        "        coluna_contagem = sum(matriz[j][i] for j in range(n))\n",
        "        if linha_contagem != 1 or coluna_contagem != 1:\n",
        "            return False\n",
        "\n",
        "    return True\n",
        "\n",
        "matriz_exemplo = [\n",
        "    [0, 0, 1, 0, 0],\n",
        "    [0, 1, 0, 0, 0],\n",
        "    [0, 0, 0, 0, 1],\n",
        "    [1, 0, 0, 0, 0],\n",
        "    [0, 0, 0, 1, 0]\n",
        "]\n",
        "\n",
        "if eh_matriz_permutacao(matriz_exemplo):\n",
        "    print(\"A matriz é uma matriz de permutação.\")\n",
        "else:\n",
        "    print(\"A matriz não é uma matriz de permutação.\")\n"
      ],
      "metadata": {
        "colab": {
          "base_uri": "https://localhost:8080/"
        },
        "id": "iyw__m-tYcmm",
        "outputId": "de8f8b72-defa-4511-edfd-b65a57b058c8"
      },
      "execution_count": 20,
      "outputs": [
        {
          "output_type": "stream",
          "name": "stdout",
          "text": [
            "A matriz é uma matriz de permutação.\n"
          ]
        }
      ]
    }
  ]
}